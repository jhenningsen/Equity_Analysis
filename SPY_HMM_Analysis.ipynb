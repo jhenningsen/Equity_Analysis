{
  "nbformat": 4,
  "nbformat_minor": 0,
  "metadata": {
    "colab": {
      "provenance": [],
      "name": "SPY_HMM_Analysis.ipynb",
      "authorship_tag": "ABX9TyN1go8V9lq2UPWpGyhREtaC"
    },
    "kernelspec": {
      "name": "python3",
      "display_name": "Python 3"
    },
    "language_info": {
      "name": "python"
    }
  },
  "cells": [
    {
      "cell_type": "code",
      "execution_count": null,
      "metadata": {
        "colab": {
          "base_uri": "https://localhost:8080/"
        },
        "id": "4x0-T4zad9-2",
        "outputId": "59fceec7-8e1c-4108-be2c-c484af3a6e71"
      },
      "outputs": [
        {
          "output_type": "stream",
          "name": "stdout",
          "text": [
            "Collecting hmmlearn\n",
            "  Downloading hmmlearn-0.3.3-cp312-cp312-manylinux_2_17_x86_64.manylinux2014_x86_64.whl.metadata (3.0 kB)\n",
            "Requirement already satisfied: numpy>=1.10 in /usr/local/lib/python3.12/dist-packages (from hmmlearn) (2.0.2)\n",
            "Requirement already satisfied: scikit-learn!=0.22.0,>=0.16 in /usr/local/lib/python3.12/dist-packages (from hmmlearn) (1.6.1)\n",
            "Requirement already satisfied: scipy>=0.19 in /usr/local/lib/python3.12/dist-packages (from hmmlearn) (1.16.2)\n",
            "Requirement already satisfied: joblib>=1.2.0 in /usr/local/lib/python3.12/dist-packages (from scikit-learn!=0.22.0,>=0.16->hmmlearn) (1.5.2)\n",
            "Requirement already satisfied: threadpoolctl>=3.1.0 in /usr/local/lib/python3.12/dist-packages (from scikit-learn!=0.22.0,>=0.16->hmmlearn) (3.6.0)\n",
            "Downloading hmmlearn-0.3.3-cp312-cp312-manylinux_2_17_x86_64.manylinux2014_x86_64.whl (165 kB)\n",
            "\u001b[2K   \u001b[90m━━━━━━━━━━━━━━━━━━━━━━━━━━━━━━━━━━━━━━━━\u001b[0m \u001b[32m166.0/166.0 kB\u001b[0m \u001b[31m3.5 MB/s\u001b[0m eta \u001b[36m0:00:00\u001b[0m\n",
            "\u001b[?25hInstalling collected packages: hmmlearn\n",
            "Successfully installed hmmlearn-0.3.3\n"
          ]
        }
      ],
      "source": [
        "!pip install hmmlearn"
      ]
    },
    {
      "cell_type": "code",
      "source": [
        "import numpy as np\n",
        "import pandas as pd\n",
        "import yfinance as yf\n",
        "from hmmlearn import hmm\n",
        "\n",
        "# --- Configuration ---\n",
        "# Tickers\n",
        "TICKERS = ['SPY', '^VIX']\n",
        "# Date Range (Adjust as needed)\n",
        "START_DATE = '2015-01-01'\n",
        "END_DATE = '2024-01-01'\n",
        "# HMM Parameters\n",
        "N_COMPONENTS = 3 # Number of hidden states (regimes)\n",
        "\n",
        "# 1. Download Data\n",
        "data = yf.download(TICKERS, start=START_DATE, end=END_DATE)['Close']\n",
        "data.columns = ['SPY', 'VIX']\n",
        "\n",
        "# 2. Feature Engineering\n",
        "# SPY returns are key for direction/magnitude of movement\n",
        "data['SPY_Returns'] = data['SPY'].pct_change() * 100\n",
        "\n",
        "# VIX change is a good measure of increasing/decreasing fear/volatility\n",
        "data['VIX_Change'] = data['VIX'].pct_change() * 100\n",
        "\n",
        "# Drop the first row which contains NaN from the pct_change calculation\n",
        "data.dropna(inplace=True)\n",
        "\n",
        "# 3. Prepare Observation Data (X)\n",
        "# We combine the two features: SPY Returns and VIX Change\n",
        "# The HMM input (X) must be a 2D numpy array\n",
        "X = data[['SPY_Returns', 'VIX_Change']].values\n",
        "\n",
        "print(f\"Data shape (Samples, Features): {X.shape}\")"
      ],
      "metadata": {
        "colab": {
          "base_uri": "https://localhost:8080/"
        },
        "id": "djPMd-4geIAP",
        "outputId": "31e0f57a-3931-4c20-d738-d893ddd7c1a9"
      },
      "execution_count": null,
      "outputs": [
        {
          "output_type": "stream",
          "name": "stderr",
          "text": [
            "/tmp/ipython-input-2898352304.py:16: FutureWarning: YF.download() has changed argument auto_adjust default to True\n",
            "  data = yf.download(TICKERS, start=START_DATE, end=END_DATE)['Close']\n",
            "[*********************100%***********************]  2 of 2 completed"
          ]
        },
        {
          "output_type": "stream",
          "name": "stdout",
          "text": [
            "Data shape (Samples, Features): (2263, 2)\n"
          ]
        },
        {
          "output_type": "stream",
          "name": "stderr",
          "text": [
            "\n"
          ]
        }
      ]
    },
    {
      "cell_type": "code",
      "source": [
        "# 4. Initialize and Train the HMM\n",
        "# GaussianHMM is suitable for continuous data\n",
        "model = hmm.GaussianHMM(\n",
        "    n_components=N_COMPONENTS,\n",
        "    covariance_type=\"full\", # Allows covariance between SPY_Returns and VIX_Change\n",
        "    n_iter=100\n",
        ")\n",
        "\n",
        "# Fit the model to the observation data\n",
        "print(\"\\nTraining HMM...\")\n",
        "model.fit(X)\n",
        "print(\"Training complete.\")\n",
        "\n",
        "# 5. Predict the Hidden States\n",
        "# Predict the most likely sequence of hidden states (regimes)\n",
        "hidden_states = model.predict(X)\n",
        "\n",
        "# Add the states back to the original DataFrame for analysis\n",
        "data['Regime'] = hidden_states"
      ],
      "metadata": {
        "colab": {
          "base_uri": "https://localhost:8080/"
        },
        "id": "dY5zUejXf-NK",
        "outputId": "96c82575-419d-48bd-a0c1-a4fb7d332b83"
      },
      "execution_count": null,
      "outputs": [
        {
          "output_type": "stream",
          "name": "stdout",
          "text": [
            "\n",
            "Training HMM...\n",
            "Training complete.\n"
          ]
        }
      ]
    },
    {
      "cell_type": "code",
      "source": [
        "# 6. Analyze the Regimes\n",
        "print(\"\\n--- Regime Analysis (Mean of Features) ---\")\n",
        "regime_analysis = data.groupby('Regime')[['SPY_Returns', 'VIX_Change']].mean()\n",
        "print(regime_analysis)\n",
        "\n",
        "# 7. Directional Prediction Insight\n",
        "# Identify the most \"Bullish\" and \"Bearish\" regimes\n",
        "# Sort by SPY_Returns to find the order\n",
        "sorted_regimes = regime_analysis.sort_values(by='SPY_Returns', ascending=False)\n",
        "\n",
        "print(\"\\n--- Directional Insight ---\")\n",
        "print(f\"The most **Bullish Regime** (highest positive SPY Return) is Regime **{sorted_regimes.index[0]}**\")\n",
        "print(f\"The most **Bearish Regime** (highest negative SPY Return) is Regime **{sorted_regimes.index[-1]}**\")\n",
        "\n",
        "# 8. Making a Forward Prediction (The core step)\n",
        "# To predict the next day's regime, you use the HMM's transition matrix and the current state.\n",
        "# Let's get the state of the *last* day in the dataset\n",
        "current_regime = data['Regime'].iloc[-1]\n",
        "transition_matrix = model.transmat_\n",
        "\n",
        "# Get the transition probabilities from the current regime to all others\n",
        "next_state_probs = transition_matrix[current_regime]\n",
        "\n",
        "print(\"\\n--- Next Day Regime Probability ---\")\n",
        "print(f\"Current Regime (Today's Close): **Regime {current_regime}**\")\n",
        "print(\"Probability of transitioning to each regime tomorrow:\")\n",
        "for i in range(N_COMPONENTS):\n",
        "    # Lookup the mean SPY return for this predicted state\n",
        "    mean_return = regime_analysis.loc[i, 'SPY_Returns']\n",
        "    print(f\"  - Regime {i}: {next_state_probs[i]:.2f} (Avg SPY Return: {mean_return:.2f}%)\")\n",
        "\n",
        "# The regime with the highest probability is your prediction\n",
        "predicted_next_regime = np.argmax(next_state_probs)\n",
        "predicted_return = regime_analysis.loc[predicted_next_regime, 'SPY_Returns']\n",
        "\n",
        "print(f\"\\n**Prediction:** The most likely regime for tomorrow is **Regime {predicted_next_regime}** with an expected average SPY return of **{predicted_return:.2f}%**.\")"
      ],
      "metadata": {
        "colab": {
          "base_uri": "https://localhost:8080/"
        },
        "id": "bWcRIh1MgRZD",
        "outputId": "aeb60505-80c4-4e1c-af18-b669a0c76b54"
      },
      "execution_count": null,
      "outputs": [
        {
          "output_type": "stream",
          "name": "stdout",
          "text": [
            "\n",
            "--- Regime Analysis (Mean of Features) ---\n",
            "        SPY_Returns  VIX_Change\n",
            "Regime                         \n",
            "0          0.107331   -0.184165\n",
            "1          0.062983   -0.368293\n",
            "2         -1.013577   14.237379\n",
            "\n",
            "--- Directional Insight ---\n",
            "The most **Bullish Regime** (highest positive SPY Return) is Regime **0**\n",
            "The most **Bearish Regime** (highest negative SPY Return) is Regime **2**\n",
            "\n",
            "--- Next Day Regime Probability ---\n",
            "Current Regime (Today's Close): **Regime 0**\n",
            "Probability of transitioning to each regime tomorrow:\n",
            "  - Regime 0: 0.97 (Avg SPY Return: 0.11%)\n",
            "  - Regime 1: 0.00 (Avg SPY Return: 0.06%)\n",
            "  - Regime 2: 0.03 (Avg SPY Return: -1.01%)\n",
            "\n",
            "**Prediction:** The most likely regime for tomorrow is **Regime 0** with an expected average SPY return of **0.11%**.\n"
          ]
        }
      ]
    }
  ]
}